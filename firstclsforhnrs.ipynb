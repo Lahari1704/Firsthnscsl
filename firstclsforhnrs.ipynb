{
 "cells": [
  {
   "cell_type": "code",
   "execution_count": 1,
   "id": "d7fbe9cc",
   "metadata": {},
   "outputs": [],
   "source": [
    "name=\"Lahari\""
   ]
  },
  {
   "cell_type": "code",
   "execution_count": 2,
   "id": "83c27d2e",
   "metadata": {},
   "outputs": [
    {
     "data": {
      "text/plain": [
       "'Lahari'"
      ]
     },
     "execution_count": 2,
     "metadata": {},
     "output_type": "execute_result"
    }
   ],
   "source": [
    "name"
   ]
  },
  {
   "cell_type": "code",
   "execution_count": 3,
   "id": "6d60b0bb",
   "metadata": {},
   "outputs": [],
   "source": [
    "a=56"
   ]
  },
  {
   "cell_type": "code",
   "execution_count": 5,
   "id": "eeb8b678",
   "metadata": {},
   "outputs": [
    {
     "data": {
      "text/plain": [
       "56"
      ]
     },
     "execution_count": 5,
     "metadata": {},
     "output_type": "execute_result"
    }
   ],
   "source": [
    "a"
   ]
  },
  {
   "cell_type": "code",
   "execution_count": 6,
   "id": "f4cfb2de",
   "metadata": {},
   "outputs": [
    {
     "data": {
      "text/plain": [
       "str"
      ]
     },
     "execution_count": 6,
     "metadata": {},
     "output_type": "execute_result"
    }
   ],
   "source": [
    "type(name)"
   ]
  },
  {
   "cell_type": "code",
   "execution_count": 7,
   "id": "2ba6d77d",
   "metadata": {},
   "outputs": [],
   "source": [
    "a=87.47"
   ]
  },
  {
   "cell_type": "code",
   "execution_count": 8,
   "id": "7f4f9e01",
   "metadata": {},
   "outputs": [
    {
     "data": {
      "text/plain": [
       "float"
      ]
     },
     "execution_count": 8,
     "metadata": {},
     "output_type": "execute_result"
    }
   ],
   "source": [
    "type(a)"
   ]
  },
  {
   "cell_type": "code",
   "execution_count": 9,
   "id": "a1a251b4",
   "metadata": {},
   "outputs": [],
   "source": [
    "a=\"f\""
   ]
  },
  {
   "cell_type": "code",
   "execution_count": 10,
   "id": "45520754",
   "metadata": {},
   "outputs": [
    {
     "data": {
      "text/plain": [
       "str"
      ]
     },
     "execution_count": 10,
     "metadata": {},
     "output_type": "execute_result"
    }
   ],
   "source": [
    "type(a)"
   ]
  },
  {
   "cell_type": "code",
   "execution_count": 11,
   "id": "704e8a8d",
   "metadata": {},
   "outputs": [],
   "source": [
    "a=987"
   ]
  },
  {
   "cell_type": "code",
   "execution_count": 12,
   "id": "b3568fe0",
   "metadata": {},
   "outputs": [
    {
     "data": {
      "text/plain": [
       "int"
      ]
     },
     "execution_count": 12,
     "metadata": {},
     "output_type": "execute_result"
    }
   ],
   "source": [
    "type(a)"
   ]
  },
  {
   "cell_type": "code",
   "execution_count": 13,
   "id": "7244fbcd",
   "metadata": {},
   "outputs": [],
   "source": [
    "n=6+8j"
   ]
  },
  {
   "cell_type": "code",
   "execution_count": 14,
   "id": "33c5941a",
   "metadata": {},
   "outputs": [
    {
     "data": {
      "text/plain": [
       "complex"
      ]
     },
     "execution_count": 14,
     "metadata": {},
     "output_type": "execute_result"
    }
   ],
   "source": [
    "type(n)"
   ]
  },
  {
   "cell_type": "code",
   "execution_count": 15,
   "id": "9b2aa539",
   "metadata": {},
   "outputs": [
    {
     "ename": "SyntaxError",
     "evalue": "invalid decimal literal (1185115565.py, line 1)",
     "output_type": "error",
     "traceback": [
      "\u001b[1;36m  Input \u001b[1;32mIn [15]\u001b[1;36m\u001b[0m\n\u001b[1;33m    n=8+7i\u001b[0m\n\u001b[1;37m        ^\u001b[0m\n\u001b[1;31mSyntaxError\u001b[0m\u001b[1;31m:\u001b[0m invalid decimal literal\n"
     ]
    }
   ],
   "source": [
    "n=8+7i"
   ]
  },
  {
   "cell_type": "code",
   "execution_count": 16,
   "id": "41229b0d",
   "metadata": {},
   "outputs": [
    {
     "data": {
      "text/plain": [
       "2"
      ]
     },
     "execution_count": 16,
     "metadata": {},
     "output_type": "execute_result"
    }
   ],
   "source": [
    "1+1"
   ]
  },
  {
   "cell_type": "code",
   "execution_count": 17,
   "id": "8ccf615d",
   "metadata": {},
   "outputs": [
    {
     "data": {
      "text/plain": [
       "112"
      ]
     },
     "execution_count": 17,
     "metadata": {},
     "output_type": "execute_result"
    }
   ],
   "source": [
    "56+56"
   ]
  },
  {
   "cell_type": "code",
   "execution_count": 18,
   "id": "9ba72562",
   "metadata": {},
   "outputs": [
    {
     "data": {
      "text/plain": [
       "(12+16j)"
      ]
     },
     "execution_count": 18,
     "metadata": {},
     "output_type": "execute_result"
    }
   ],
   "source": [
    "n+n"
   ]
  },
  {
   "cell_type": "code",
   "execution_count": 19,
   "id": "319dca3c",
   "metadata": {},
   "outputs": [
    {
     "data": {
      "text/plain": [
       "(-28+96j)"
      ]
     },
     "execution_count": 19,
     "metadata": {},
     "output_type": "execute_result"
    }
   ],
   "source": [
    "n*n"
   ]
  },
  {
   "cell_type": "code",
   "execution_count": 20,
   "id": "4dc0c248",
   "metadata": {},
   "outputs": [
    {
     "data": {
      "text/plain": [
       "(1+0j)"
      ]
     },
     "execution_count": 20,
     "metadata": {},
     "output_type": "execute_result"
    }
   ],
   "source": [
    "n/n"
   ]
  },
  {
   "cell_type": "code",
   "execution_count": 21,
   "id": "77ae049d",
   "metadata": {},
   "outputs": [
    {
     "data": {
      "text/plain": [
       "0"
      ]
     },
     "execution_count": 21,
     "metadata": {},
     "output_type": "execute_result"
    }
   ],
   "source": [
    "True-True"
   ]
  },
  {
   "cell_type": "code",
   "execution_count": 22,
   "id": "50f99cd3",
   "metadata": {},
   "outputs": [
    {
     "data": {
      "text/plain": [
       "1"
      ]
     },
     "execution_count": 22,
     "metadata": {},
     "output_type": "execute_result"
    }
   ],
   "source": [
    "True-False"
   ]
  },
  {
   "cell_type": "code",
   "execution_count": 24,
   "id": "099daad0",
   "metadata": {},
   "outputs": [
    {
     "data": {
      "text/plain": [
       "0.0"
      ]
     },
     "execution_count": 24,
     "metadata": {},
     "output_type": "execute_result"
    }
   ],
   "source": [
    "False/True"
   ]
  },
  {
   "cell_type": "code",
   "execution_count": 25,
   "id": "d6364c6c",
   "metadata": {},
   "outputs": [
    {
     "ename": "ZeroDivisionError",
     "evalue": "division by zero",
     "output_type": "error",
     "traceback": [
      "\u001b[1;31m---------------------------------------------------------------------------\u001b[0m",
      "\u001b[1;31mZeroDivisionError\u001b[0m                         Traceback (most recent call last)",
      "Input \u001b[1;32mIn [25]\u001b[0m, in \u001b[0;36m<cell line: 1>\u001b[1;34m()\u001b[0m\n\u001b[1;32m----> 1\u001b[0m \u001b[38;5;28;43;01mTrue\u001b[39;49;00m\u001b[38;5;241;43m/\u001b[39;49m\u001b[38;5;28;43;01mFalse\u001b[39;49;00m\n",
      "\u001b[1;31mZeroDivisionError\u001b[0m: division by zero"
     ]
    }
   ],
   "source": [
    "True/False"
   ]
  },
  {
   "cell_type": "code",
   "execution_count": 26,
   "id": "ddd4b4f0",
   "metadata": {},
   "outputs": [],
   "source": [
    "name = \"Lahari\""
   ]
  },
  {
   "cell_type": "code",
   "execution_count": 28,
   "id": "cb3e6734",
   "metadata": {},
   "outputs": [
    {
     "data": {
      "text/plain": [
       "'Laha'"
      ]
     },
     "execution_count": 28,
     "metadata": {},
     "output_type": "execute_result"
    }
   ],
   "source": [
    "name[0:4]"
   ]
  },
  {
   "cell_type": "code",
   "execution_count": 29,
   "id": "299311de",
   "metadata": {},
   "outputs": [
    {
     "data": {
      "text/plain": [
       "'hari'"
      ]
     },
     "execution_count": 29,
     "metadata": {},
     "output_type": "execute_result"
    }
   ],
   "source": [
    "name[2:7]"
   ]
  },
  {
   "cell_type": "code",
   "execution_count": 30,
   "id": "518391f1",
   "metadata": {},
   "outputs": [],
   "source": [
    "SENsen=\"I love coding\""
   ]
  },
  {
   "cell_type": "code",
   "execution_count": 32,
   "id": "f6d11047",
   "metadata": {},
   "outputs": [
    {
     "data": {
      "text/plain": [
       "'I love coding'"
      ]
     },
     "execution_count": 32,
     "metadata": {},
     "output_type": "execute_result"
    }
   ],
   "source": [
    "sen"
   ]
  },
  {
   "cell_type": "code",
   "execution_count": 33,
   "id": "9ff164cb",
   "metadata": {},
   "outputs": [
    {
     "data": {
      "text/plain": [
       "'ve c'"
      ]
     },
     "execution_count": 33,
     "metadata": {},
     "output_type": "execute_result"
    }
   ],
   "source": [
    "sen[4:8]"
   ]
  },
  {
   "cell_type": "code",
   "execution_count": 36,
   "id": "bb2b1a93",
   "metadata": {},
   "outputs": [
    {
     "data": {
      "text/plain": [
       "'oding'"
      ]
     },
     "execution_count": 36,
     "metadata": {},
     "output_type": "execute_result"
    }
   ],
   "source": [
    "sen[8:15]"
   ]
  },
  {
   "cell_type": "code",
   "execution_count": 35,
   "id": "8937f049",
   "metadata": {},
   "outputs": [
    {
     "data": {
      "text/plain": [
       "'od'"
      ]
     },
     "execution_count": 35,
     "metadata": {},
     "output_type": "execute_result"
    }
   ],
   "source": [
    "sen[8:10]"
   ]
  },
  {
   "cell_type": "code",
   "execution_count": 37,
   "id": "28410f0e",
   "metadata": {},
   "outputs": [
    {
     "data": {
      "text/plain": [
       "'v oig'"
      ]
     },
     "execution_count": 37,
     "metadata": {},
     "output_type": "execute_result"
    }
   ],
   "source": [
    "sen[4:90:2]"
   ]
  },
  {
   "cell_type": "code",
   "execution_count": 40,
   "id": "4bf04076",
   "metadata": {},
   "outputs": [
    {
     "data": {
      "text/plain": [
       "'ol'"
      ]
     },
     "execution_count": 40,
     "metadata": {},
     "output_type": "execute_result"
    }
   ],
   "source": [
    "sen[-10:1:-1]"
   ]
  },
  {
   "cell_type": "code",
   "execution_count": null,
   "id": "57f10502",
   "metadata": {},
   "outputs": [],
   "source": []
  }
 ],
 "metadata": {
  "kernelspec": {
   "display_name": "Python 3 (ipykernel)",
   "language": "python",
   "name": "python3"
  },
  "language_info": {
   "codemirror_mode": {
    "name": "ipython",
    "version": 3
   },
   "file_extension": ".py",
   "mimetype": "text/x-python",
   "name": "python",
   "nbconvert_exporter": "python",
   "pygments_lexer": "ipython3",
   "version": "3.10.5"
  }
 },
 "nbformat": 4,
 "nbformat_minor": 5
}
